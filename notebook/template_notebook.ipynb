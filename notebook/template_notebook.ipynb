{
 "cells": [
  {
   "cell_type": "code",
   "execution_count": null,
   "id": "4193ced0",
   "metadata": {},
   "outputs": [],
   "source": [
    "m = 1\n",
    "b = 0"
   ]
  },
  {
   "cell_type": "code",
   "execution_count": null,
   "id": "d310e1f7",
   "metadata": {},
   "outputs": [],
   "source": [
    "\n",
    "import os\n",
    "import torch\n",
    "import torch.nn as nn\n",
    "import torch.optim as optim\n",
    "import matplotlib.pyplot as plt\n",
    "\n",
    "# Generate data\n",
    "x = torch.linspace(-1, 1, 100).unsqueeze(1)\n",
    "y = m * x + b + 0.1 * torch.randn_like(x)\n",
    "\n",
    "# Model\n",
    "model = nn.Sequential(nn.Linear(1, 16), nn.ReLU(), nn.Linear(16, 1))\n",
    "device = \"cuda\" if torch.cuda.is_available() else \"cpu\"\n",
    "model = model.to(device)\n",
    "x, y = x.to(device), y.to(device)\n",
    "\n",
    "loss_fn = nn.MSELoss()\n",
    "optimizer = optim.Adam(model.parameters(), lr=0.01)\n",
    "\n",
    "# Training\n",
    "for epoch in range(200):\n",
    "    optimizer.zero_grad()\n",
    "    pred = model(x)\n",
    "    loss = loss_fn(pred, y)\n",
    "    loss.backward()\n",
    "    optimizer.step()\n",
    "\n",
    "# Prediction\n",
    "with torch.no_grad():\n",
    "    y_pred = model(x).cpu().numpy()\n",
    "    x_cpu = x.cpu().numpy()\n",
    "    y_cpu = y.cpu().numpy()\n",
    "\n",
    "# Plot\n",
    "plt.scatter(x_cpu, y_cpu, label='Noisy Data')\n",
    "plt.plot(x_cpu, y_pred, color='green', label='NN Fit')\n",
    "plt.plot(x_cpu, m * x_cpu + b, color='red', linestyle='--', label=f'True Line: y = {m}x + {b}')\n",
    "plt.legend()\n",
    "plt.title(\"NN Fit vs True Line\")\n",
    "plt.xlabel(\"x\")\n",
    "plt.ylabel(\"y\")\n",
    "plt.grid()\n",
    "out_path = os.path.join(os.getcwd(), \"plot.png\")\n",
    "plt.savefig(out_path)\n",
    "print(\"✅ plot.png saved at:\", out_path)\n",
    "\n",
    "with open(\"output.txt\", \"w\") as f:\n",
    "    f.write(f\"Final loss: {{loss.item()}}\")\n",
    "\n"
   ]
  }
 ],
 "metadata": {
  "language_info": {
   "name": "python"
  }
 },
 "nbformat": 4,
 "nbformat_minor": 5
}
